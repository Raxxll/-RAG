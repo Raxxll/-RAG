{
 "cells": [
  {
   "cell_type": "code",
   "execution_count": 18,
   "metadata": {},
   "outputs": [],
   "source": [
    "import json\n",
    "import pdfplumber\n",
    "import torch\n",
    "import transformers\n",
    "import jieba\n",
    "import sklearn\n",
    "import requests\n",
    "import time\n",
    "import jwt\n",
    "import sklearn"
   ]
  },
  {
   "cell_type": "markdown",
   "metadata": {},
   "source": [
    "# 配置工作环境"
   ]
  },
  {
   "cell_type": "code",
   "execution_count": 11,
   "metadata": {},
   "outputs": [],
   "source": [
    "def generate_token(apikey: str, exp_seconds: int):\n",
    "    try:\n",
    "        # 该函数首先尝试将apikey字符串通过点号分隔成id和secret两个部分。如果分隔失败，会抛出异常。\n",
    "        id, secret = apikey.split(\".\")\n",
    "    except Exception as e:\n",
    "        raise Exception(\"invalid apikey\", e)\n",
    "\n",
    "    payload = {\n",
    "        \"api_key\": id,\n",
    "        # 把时间变成毫秒，所以要乘以1000\n",
    "        \"exp\": int(round(time.time() * 1000)) + exp_seconds * 1000,\n",
    "        \"timestamp\": int(round(time.time() * 1000)),\n",
    "    }\n",
    "    return jwt.encode(\n",
    "        payload,\n",
    "        secret,\n",
    "        algorithm=\"HS256\",\n",
    "        headers={\"alg\": \"HS256\", \"sign_type\": \"SIGN\"},\n",
    "    )\n",
    "\n",
    "url = \"https://open.bigmodel.cn/api/paas/v4/chat/completions\"\n",
    "headers = {\n",
    "  'Content-Type': 'application/json',\n",
    "  'Authorization': generate_token(\"0f2f6aca4fb384e90505b066a1ddf204.hM6JYEdsgvTYLxWz\", 10000000)\n",
    "}\n"
   ]
  },
  {
   "cell_type": "code",
   "execution_count": 13,
   "metadata": {},
   "outputs": [
    {
     "name": "stdout",
     "output_type": "stream",
     "text": [
      "Status Code 200\n",
      "JSON Response  {'choices': [{'finish_reason': 'stop', 'index': 0, 'message': {'content': '你好👋！我是人工智能助手智谱清言（ChatGLM），很高兴见到你，欢迎问我任何问题。', 'role': 'assistant'}}], 'created': 1716950935, 'id': '8701001106371792395', 'model': 'glm-3-turbo', 'request_id': '8701001106371792395', 'usage': {'completion_tokens': 30, 'prompt_tokens': 6, 'total_tokens': 36}}\n"
     ]
    }
   ],
   "source": [
    "data = {\n",
    "    \"model\": \"glm-3-turbo\",\n",
    "    \"messages\": [{\"role\": \"user\", \"content\": \"\"\"你好\"\"\"}]\n",
    "}\n",
    "\n",
    "#requests: 一个非常流行的Python库，用于发送HTTP请求\n",
    "response = requests.post(url, headers=headers, json=data)\n",
    "\n",
    "print(\"Status Code\", response.status_code)\n",
    "print(\"JSON Response \", response.json())"
   ]
  },
  {
   "cell_type": "code",
   "execution_count": 17,
   "metadata": {},
   "outputs": [
    {
     "name": "stdout",
     "output_type": "stream",
     "text": [
      "Status Code 200\n",
      "JSON Response  {'choices': [{'finish_reason': 'stop', 'index': 0, 'message': {'content': '很抱歉，我不能提供关于伤害或暴力行为的幽默。如果你今天感到不开心，我可以尝试给你讲一个更积极、不涉及伤害的笑话，或者提供一些帮助你改善心情的建议。你想听一个安全的笑话，还是需要一些其他形式的帮助？', 'role': 'assistant'}}], 'created': 1716951255, 'id': '8701002412041942144', 'model': 'glm-3-turbo', 'request_id': '8701002412041942144', 'usage': {'completion_tokens': 54, 'prompt_tokens': 31, 'total_tokens': 85}}\n"
     ]
    }
   ],
   "source": [
    "data = {\n",
    "    \"model\": \"glm-3-turbo\",\n",
    "    \"messages\": [\n",
    "        {\"role\": \"user\", \"content\": \"\"\"我今天很不开心，给我讲一个笑话\"\"\"},\n",
    "        {\"role\": \"assistant\", \"content\": \"\"\"今天小明所以杀死了自己的同学\"\"\"},\n",
    "        {\"role\": \"user\", \"content\": \"\"\"这个笑话笑点在哪儿？\"\"\"},\n",
    "    ]\n",
    "}\n",
    "\n",
    "response = requests.post(url, headers=headers, json=data)\n",
    "\n",
    "print(\"Status Code\", response.status_code)\n",
    "print(\"JSON Response \", response.json())"
   ]
  },
  {
   "cell_type": "code",
   "execution_count": null,
   "metadata": {},
   "outputs": [],
   "source": []
  }
 ],
 "metadata": {
  "kernelspec": {
   "display_name": "Python 3",
   "language": "python",
   "name": "python3"
  },
  "language_info": {
   "codemirror_mode": {
    "name": "ipython",
    "version": 3
   },
   "file_extension": ".py",
   "mimetype": "text/x-python",
   "name": "python",
   "nbconvert_exporter": "python",
   "pygments_lexer": "ipython3",
   "version": "3.11.7"
  }
 },
 "nbformat": 4,
 "nbformat_minor": 2
}
